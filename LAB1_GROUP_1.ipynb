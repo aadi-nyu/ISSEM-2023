{
 "cells": [
  {
   "cell_type": "markdown",
   "id": "f3a071e8-6a0c-4f74-af9c-530b8ae5f409",
   "metadata": {},
   "source": [
    "Lab1\n",
    "Group Members: (Rupak Seal, RS7502), (Aadi Joshi ,aj1566), (Mahmoud Alminawi ,ma6950), (Jose Velazquez,jav4534)"
   ]
  },
  {
   "cell_type": "code",
   "execution_count": null,
   "id": "aa5630c4-2c58-4710-9cc1-1af530fb969e",
   "metadata": {},
   "outputs": [],
   "source": [
    "Group = \"3\"\n",
    "Course = \"ISSEM\"\n",
    "Lab = \"Lab1\"\n",
    "print(\"Group:\"+Group, Lab, \"Course:\"+Course)"
   ]
  },
  {
   "cell_type": "code",
   "execution_count": null,
   "id": "9148315b-9c80-4733-a85a-e061aace8556",
   "metadata": {},
   "outputs": [],
   "source": [
    "str=\"The quick brown fox jumps over the lazy dog\"\n",
    "arr = str.split(\" \")  # Split the string into words and store them in a list called 'arr'\n",
    "temp=[]  # Create an empty list called 'temp'\n",
    "\n",
    "# Add the first word from 'arr' to the 'temp' list\n",
    "temp.append(arr[0])\n",
    "\n",
    "# Add the second word from 'arr' to the 'temp' list\n",
    "temp.append(arr[1])\n",
    "\n",
    "# Assign the second-to-last word from 'arr' to the first element of 'arr'\n",
    "arr[0]= arr[len(arr)-2]\n",
    "\n",
    "# Assign the last word from 'arr' to the second element of 'arr'\n",
    "arr[1]= arr[len(arr)-1]\n",
    "\n",
    "# Assign the first element of 'temp' to the second-to-last element of 'arr'\n",
    "arr[len(arr)-2] = temp[0]\n",
    "\n",
    "# Assign the second element of 'temp' to the last element of 'arr'\n",
    "arr[len(arr)-1] = temp[1]\n",
    "\n",
    "str=' '.join(arr)  # Join the words in 'arr' back into a string separated by spaces and assign it to 'str'\n",
    "\n",
    "#this code rearranges the words in the sentence by swapping the positions of the first two words with the last two words. \n",
    "#The modified sentence is then assigned back to the variable 'str'.\n"
   ]
  },
  {
   "cell_type": "code",
   "execution_count": null,
   "id": "bc057ada-1342-406f-b8e8-7d023e320153",
   "metadata": {},
   "outputs": [],
   "source": [
    "def dummy(var):\n",
    "    x = str(var)  # Convert the input variable to a string and assign it to 'x'\n",
    "    y = len(x) - 1  # Calculate the index of the last character in 'x' and assign it to 'y'\n",
    "    z = ''  # Initialize an empty string variable 'z'\n",
    "    \n",
    "    # Iterate over each character in 'x' in reverse order\n",
    "    while y >= 0:\n",
    "        z = z + x[y]  # Add the current character to the 'z' string\n",
    "        y -= 1  # Move to the previous character\n",
    "    \n",
    "    return int(z)  # Convert the string 'z' back to an integer and return it\n",
    "\n",
    "Example with input 987654321:\n",
    "\n",
    "The function converts the input 987654321 to a string and assigns it to x.\n",
    "y is initialized as the index of the last character in x, which is 8.\n",
    "An empty string z is created.\n",
    "The loop iterates in reverse order, appending each character of x to z in reverse.\n",
    "After the loop, z becomes '123456789'.\n",
    "The function converts '123456789' back to an integer and returns 123456789."
   ]
  },
  {
   "cell_type": "code",
   "execution_count": 26,
   "id": "f9ca470c-9d43-4d57-be5a-dc7060abe4b5",
   "metadata": {},
   "outputs": [
    {
     "name": "stdout",
     "output_type": "stream",
     "text": [
      "121 is a palindrome\n",
      "123 is NOT a palindrome\n",
      "414 is a palindrome\n",
      "866 is NOT a palindrome\n",
      "988 is NOT a palindrome\n",
      "101 is a palindrome\n"
     ]
    }
   ],
   "source": [
    "def dummy(var):\n",
    "    x = str(var)  # Convert the input variable to a string and assign it to 'x'\n",
    "    y = len(x) - 1  # Calculate the index of the last character in 'x' and assign it to 'y'\n",
    "    z = ''  # Initialize an empty string variable 'z'\n",
    "    \n",
    "    # Iterate over each character in 'x' in reverse order\n",
    "    while y >= 0:\n",
    "        z = z + x[y]  # Add the current character to the 'z' string\n",
    "        y -= 1  # Move to the previous character\n",
    "    \n",
    "    return int(z)  # Convert the string 'z' back to an integer and return it\n",
    "\n",
    "\n",
    "\n",
    "\n",
    "def is_palidrome(var):\n",
    "    tmp=dummy(var)\n",
    "    if type(var) is float:\n",
    "        if float(str(var))==tmp:\n",
    "            return True\n",
    "    elif int(str(var))==tmp:\n",
    "        return True\n",
    "    else:\n",
    "        return False\n",
    "items=[121, 123, 414,866,988, 101]\n",
    "# the float in the provided input will break the int casting in dummy. We are left with two fixes for this 1 is to assume the decimal was supposed to be a comma the other is to assume it is in fact correctly a decimal number and modify the provided code for dummy(var) to support decimals. We decided on both adjusting the code to supporting floats and adding the elements as separate ints.\n",
    "for item in items:\n",
    "    if is_palidrome(item):\n",
    "        print(f\"{item} is a palindrome\")\n",
    "    else:\n",
    "        print(f\"{item} is NOT a palindrome\")\n"
   ]
  },
  {
   "cell_type": "code",
   "execution_count": 27,
   "id": "4563f161-0e6c-4196-bb88-9ab8636ce03f",
   "metadata": {},
   "outputs": [
    {
     "name": "stdout",
     "output_type": "stream",
     "text": [
      "Price: 440, Discounted Price: 352.0\n",
      "Price: 265, Discounted Price: 238.5\n",
      "Price: 144, Discounted Price: 136.79999999999998\n",
      "Price: -10, Discounted Price: Price cannot be negative. Please enter a positive value.\n",
      "Price: 8, Discounted Price: 4.0\n"
     ]
    }
   ],
   "source": [
    "def Calculate_Discount(price):\n",
    "    if price >= 500:\n",
    "        final_price = price * (70/100)\n",
    "    elif price >= 350 and price < 500:\n",
    "        final_price = price * (80/100)\n",
    "    elif price >= 150 and price < 350:\n",
    "        final_price = price * (90/100)\n",
    "    elif price >= 10 and price < 150:\n",
    "        final_price = price * (95/100)\n",
    "    elif price > 0 and price < 10:\n",
    "        final_price = price * (50/100)\n",
    "    else:\n",
    "        final_price = \"Price cannot be negative. Please enter a positive value.\"\n",
    "    return final_price\n",
    "\n",
    "# Calculate the discount\n",
    "prices = [440, 265, 144, -10, 8]\n",
    "for price in prices:\n",
    "    discount = Calculate_Discount(price)\n",
    "    print(f\"Price: {price}, Discounted Price: {discount}\")"
   ]
  },
  {
   "cell_type": "code",
   "execution_count": null,
   "id": "cc72993e-e109-410a-9b29-f4f39250d76c",
   "metadata": {},
   "outputs": [],
   "source": []
  }
 ],
 "metadata": {
  "kernelspec": {
   "display_name": "Python 3 (ipykernel)",
   "language": "python",
   "name": "python3"
  },
  "language_info": {
   "codemirror_mode": {
    "name": "ipython",
    "version": 3
   },
   "file_extension": ".py",
   "mimetype": "text/x-python",
   "name": "python",
   "nbconvert_exporter": "python",
   "pygments_lexer": "ipython3",
   "version": "3.10.6"
  }
 },
 "nbformat": 4,
 "nbformat_minor": 5
}
